{
  "nbformat": 4,
  "nbformat_minor": 0,
  "metadata": {
    "colab": {
      "provenance": []
    },
    "kernelspec": {
      "name": "python3",
      "display_name": "Python 3"
    },
    "language_info": {
      "name": "python"
    }
  },
  "cells": [
    {
      "cell_type": "markdown",
      "source": [
        "# SELECCIÓN DE SEGMENTO CRITICO: MOTORES OBJETIVOS"
      ],
      "metadata": {
        "id": "Eb5IkyZ8eIeI"
      }
    },
    {
      "cell_type": "code",
      "source": [
        "import pandas as pd\n",
        "import matplotlib.pyplot as plt\n",
        "import numpy as np\n",
        "import seaborn as sns"
      ],
      "metadata": {
        "id": "hhuC3Qt1cWkx"
      },
      "execution_count": null,
      "outputs": []
    },
    {
      "cell_type": "code",
      "execution_count": null,
      "metadata": {
        "id": "yqaOsku_bttR"
      },
      "outputs": [],
      "source": [
        "# Ruta del archivo Excel\n",
        "ruta_archivo = '/content/consolidado_motores.xlsx'\n",
        "\n",
        "# Cargar el archivo Excel en un DataFrame\n",
        "consolidado = pd.read_excel(ruta_archivo, sheet_name='Consolidado')"
      ]
    },
    {
      "cell_type": "code",
      "source": [
        "# Filtrar el DataFrame para obtener solo los motores con voltaje entre 550 y 585\n",
        "consolidado2 = consolidado[(consolidado['SEG_VOLT'] == \"BAJO VOLTAJE 2(550-585)\")]"
      ],
      "metadata": {
        "id": "phu0Od1Lb9Eb"
      },
      "execution_count": null,
      "outputs": []
    },
    {
      "cell_type": "code",
      "source": [
        "motores_objetivos = consolidado2[\n",
        "    (consolidado['POTENCIA (HP)'] <= 100) &\n",
        "    (consolidado['Polos'] == 4) ]\n",
        "\n",
        "print(len(motores_objetivos))"
      ],
      "metadata": {
        "colab": {
          "base_uri": "https://localhost:8080/"
        },
        "id": "-dGLkuTSckTA",
        "outputId": "eb801faf-f920-4606-90c5-24c55e3ae9b4"
      },
      "execution_count": null,
      "outputs": [
        {
          "output_type": "stream",
          "name": "stdout",
          "text": [
            "700\n"
          ]
        },
        {
          "output_type": "stream",
          "name": "stderr",
          "text": [
            "<ipython-input-7-6f6264c63c5b>:1: UserWarning: Boolean Series key will be reindexed to match DataFrame index.\n",
            "  motores_objetivos = consolidado2[\n"
          ]
        }
      ]
    },
    {
      "cell_type": "code",
      "source": [
        "print(f\"Total de motores objetivos : {len(motores_objetivos)}\")\n",
        "print(f\"Total de motores objetivos con características repetidas(unicos): {sum(len(grupo) >= 1 for _, grupo in motores_objetivos.groupby(['MARCA ', 'R.P.M', 'POTENCIA (HP)', 'FRAME']))}\")\n"
      ],
      "metadata": {
        "colab": {
          "base_uri": "https://localhost:8080/"
        },
        "id": "zg51vqhCcqez",
        "outputId": "0eaff899-9a3e-4ed9-db5f-c99dd857b132"
      },
      "execution_count": null,
      "outputs": [
        {
          "output_type": "stream",
          "name": "stdout",
          "text": [
            "Total de motores objetivos : 700\n",
            "Total de motores objetivos con características repetidas(unicos): 313\n"
          ]
        }
      ]
    },
    {
      "cell_type": "code",
      "source": [
        "#DATA MOTORES UNICOS\n",
        "motores_unicos = motores_objetivos.drop_duplicates(subset=['MARCA ', 'R.P.M', 'POTENCIA (HP)', 'FRAME','Polos'])\n",
        "print(f\"Cantidad de motores objetivos unicos: {len(motores_unicos)}\")"
      ],
      "metadata": {
        "colab": {
          "base_uri": "https://localhost:8080/"
        },
        "id": "qfMaSWENcrog",
        "outputId": "60eac9e7-36f8-49c8-8bbb-ad31f74efa70"
      },
      "execution_count": null,
      "outputs": [
        {
          "output_type": "stream",
          "name": "stdout",
          "text": [
            "Cantidad de motores objetivos unicos: 313\n"
          ]
        }
      ]
    },
    {
      "cell_type": "markdown",
      "source": [
        "# ID PARA MOTORES Y CANTIDADES\n"
      ],
      "metadata": {
        "id": "nQG8UuCL5R3k"
      }
    },
    {
      "cell_type": "markdown",
      "source": [
        "Crear ID para cada motor unico"
      ],
      "metadata": {
        "id": "LaJfllJa5HyG"
      }
    },
    {
      "cell_type": "code",
      "source": [
        "# AGREGAR ID A CADA MOTOR UNICO\n",
        "import string\n",
        "\n",
        "def generate_unique_id(df):\n",
        "  \"\"\"\n",
        "  Genera un ID único para cada motor en el DataFrame.\n",
        "\n",
        "  Args:\n",
        "    df: DataFrame con motores únicos.\n",
        "\n",
        "  Returns:\n",
        "    DataFrame con una nueva columna 'ID_Motor' con IDs únicos.\n",
        "  \"\"\"\n",
        "\n",
        "  df['ID_Motor'] = ['M' + str(i).zfill(3) for i in range(1, len(df) + 1)]\n",
        "  return df\n",
        "\n",
        "motores_unicos = generate_unique_id(motores_unicos)"
      ],
      "metadata": {
        "colab": {
          "base_uri": "https://localhost:8080/"
        },
        "id": "QwDludr3mI9B",
        "outputId": "6bfaf0cb-cd6f-4550-f26f-fd2c1b6340c1"
      },
      "execution_count": null,
      "outputs": [
        {
          "output_type": "stream",
          "name": "stdout",
          "text": [
            "        N° PROCESO SECTOR/UBICACIÓN                EQUIPO           MARCA   \\\n",
            "0        1  04 PPC     FILTROS MOLY     FILTRO TAMBOR 601              WEG   \n",
            "2        3  04 PPC     FILTROS MOLY  FILTRO ACCIONAMIENTO   ALLIS CHALMERS   \n",
            "8        9  04 PPC     FILTROS MOLY   FILTRO TOR. SIN FIN           LENZE    \n",
            "9       10  04 PPC              NaN          TORNILLO N°5           S/DATO   \n",
            "10      11  04 PPC     FILTROS MOLY     BOMBA ACEITE Nº 1   ALLIS CHALMERS   \n",
            "...    ...     ...              ...                   ...              ...   \n",
            "1160  1162  03 PMC     PLANTA P.T.R          BOMBA Nº 773  U.S. ELECTRICAL   \n",
            "1164  1166  03 PMC     PLANTA P.T.R          BOMBA Nº 793  U.S. ELECTRICAL   \n",
            "1167  1169  03 PMC     PLANTA P.T.R          BOMBA Nº 750             ASEA   \n",
            "1168  1170  03 PMC     PLANTA P.T.R          BOMBA Nº 751             ASEA   \n",
            "1174  1176  03 PMC     PLANTA P.T.R          BOMBA Nº 786             TECO   \n",
            "\n",
            "                   Nº SERIE   FRAME  POTENCIA (HP) VOLTAJE   R.P.M  \\\n",
            "0                   AS32136   184-T            3.0     575  1480.0   \n",
            "2                   S/SERIE   145-T            1.0     575  1450.0   \n",
            "8                  9LH/896H  S/DATO            3.0     575  1420.0   \n",
            "9                   S/SERIE   132-M            3.0     575  1455.0   \n",
            "10      1-5102-28685-24-229   254-T           10.0     550  1450.0   \n",
            "...                     ...     ...            ...     ...     ...   \n",
            "1160  680769/X04X0600036R-4   365-T           60.0     575  1475.0   \n",
            "1164  680770/X04X0600040R-2   326-T           40.0     575  1475.0   \n",
            "1167               70985437  S/DATO           13.0     575  1470.0   \n",
            "1168                7087012  S/DATO           30.0     575  1470.0   \n",
            "1174              030394-2M   225-S           40.0     575  1455.0   \n",
            "\n",
            "              Adicional Observaciones                 SEG_VOLT  Polos  \\\n",
            "0                   NaN           NaN  BAJO VOLTAJE 2(550-585)    4.0   \n",
            "2                   NaN           NaN  BAJO VOLTAJE 2(550-585)    4.0   \n",
            "8                   NaN           NaN  BAJO VOLTAJE 2(550-585)    4.0   \n",
            "9                   NaN           NaN  BAJO VOLTAJE 2(550-585)    4.0   \n",
            "10                  NaN           NaN  BAJO VOLTAJE 2(550-585)    4.0   \n",
            "...                 ...           ...                      ...    ...   \n",
            "1160  BOMBAS DE PROCESO           NaN  BAJO VOLTAJE 2(550-585)    4.0   \n",
            "1164  BOMBAS DE PROCESO           NaN  BAJO VOLTAJE 2(550-585)    4.0   \n",
            "1167     BOMBAS DE POZO           NaN  BAJO VOLTAJE 2(550-585)    4.0   \n",
            "1168     BOMBAS DE POZO           NaN  BAJO VOLTAJE 2(550-585)    4.0   \n",
            "1174     BOMBAS DE POZO           NaN  BAJO VOLTAJE 2(550-585)    4.0   \n",
            "\n",
            "      Frecuencia ID_Motor  \n",
            "0           50.0     M001  \n",
            "2           50.0     M002  \n",
            "8           50.0     M003  \n",
            "9           50.0     M004  \n",
            "10          50.0     M005  \n",
            "...          ...      ...  \n",
            "1160        50.0     M309  \n",
            "1164        50.0     M310  \n",
            "1167        50.0     M311  \n",
            "1168        50.0     M312  \n",
            "1174        50.0     M313  \n",
            "\n",
            "[313 rows x 16 columns]\n"
          ]
        },
        {
          "output_type": "stream",
          "name": "stderr",
          "text": [
            "<ipython-input-8-d60e244aab7e>:15: SettingWithCopyWarning: \n",
            "A value is trying to be set on a copy of a slice from a DataFrame.\n",
            "Try using .loc[row_indexer,col_indexer] = value instead\n",
            "\n",
            "See the caveats in the documentation: https://pandas.pydata.org/pandas-docs/stable/user_guide/indexing.html#returning-a-view-versus-a-copy\n",
            "  df['ID_Motor'] = ['M' + str(i).zfill(3) for i in range(1, len(df) + 1)]\n"
          ]
        }
      ]
    },
    {
      "cell_type": "markdown",
      "source": [
        "Agregar ID a motores objetivos"
      ],
      "metadata": {
        "id": "q20XbjhE5CM7"
      }
    },
    {
      "cell_type": "code",
      "source": [
        "# AGREGAR ID A MOTORES OBJETIVOS\n",
        "motores_objetivos= pd.merge(motores_objetivos, motores_unicos[['MARCA ', 'R.P.M', 'POTENCIA (HP)', 'FRAME', 'ID_Motor']],\n",
        "                                    on=['MARCA ', 'R.P.M', 'POTENCIA (HP)', 'FRAME'], how='left')\n",
        "\n",
        "print(motores_objetivos)"
      ],
      "metadata": {
        "colab": {
          "base_uri": "https://localhost:8080/"
        },
        "id": "Au_umLCsmRJC",
        "outputId": "b9418a65-a5c9-4793-a523-c9c94768051a"
      },
      "execution_count": null,
      "outputs": [
        {
          "output_type": "stream",
          "name": "stdout",
          "text": [
            "       N° PROCESO SECTOR/UBICACIÓN                EQUIPO          MARCA   \\\n",
            "0       1  04 PPC     FILTROS MOLY     FILTRO TAMBOR 601             WEG   \n",
            "1       3  04 PPC     FILTROS MOLY  FILTRO ACCIONAMIENTO  ALLIS CHALMERS   \n",
            "2       9  04 PPC     FILTROS MOLY   FILTRO TOR. SIN FIN          LENZE    \n",
            "3      10  04 PPC              NaN          TORNILLO N°5          S/DATO   \n",
            "4      11  04 PPC     FILTROS MOLY     BOMBA ACEITE Nº 1  ALLIS CHALMERS   \n",
            "..    ...     ...              ...                   ...             ...   \n",
            "695  1170  03 PMC     PLANTA P.T.R          BOMBA Nº 751            ASEA   \n",
            "696  1171  03 PMC     PLANTA P.T.R          BOMBA Nº 752             WEG   \n",
            "697  1172  03 PMC     PLANTA P.T.R          BOMBA Nº 756          BALDOR   \n",
            "698  1174  03 PMC     PLANTA P.T.R          BOMBA Nº 758  ALLIS CHALMERS   \n",
            "699  1176  03 PMC     PLANTA P.T.R          BOMBA Nº 786            TECO   \n",
            "\n",
            "                Nº SERIE   FRAME  POTENCIA (HP) VOLTAJE   R.P.M  \\\n",
            "0                AS32136   184-T            3.0     575  1480.0   \n",
            "1                S/SERIE   145-T            1.0     575  1450.0   \n",
            "2               9LH/896H  S/DATO            3.0     575  1420.0   \n",
            "3                S/SERIE   132-M            3.0     575  1455.0   \n",
            "4    1-5102-28685-24-229   254-T           10.0     550  1450.0   \n",
            "..                   ...     ...            ...     ...     ...   \n",
            "695              7087012  S/DATO           30.0     575  1470.0   \n",
            "696              S/SERIE   180-M           20.0     575  1470.0   \n",
            "697          C0711070278   326-T           50.0     575  1480.0   \n",
            "698     1-5106-79392-1-2   364-T           50.0     550  1465.0   \n",
            "699            030394-2M   225-S           40.0     575  1455.0   \n",
            "\n",
            "          Adicional Observaciones                 SEG_VOLT  Polos  Frecuencia  \\\n",
            "0               NaN           NaN  BAJO VOLTAJE 2(550-585)    4.0        50.0   \n",
            "1               NaN           NaN  BAJO VOLTAJE 2(550-585)    4.0        50.0   \n",
            "2               NaN           NaN  BAJO VOLTAJE 2(550-585)    4.0        50.0   \n",
            "3               NaN           NaN  BAJO VOLTAJE 2(550-585)    4.0        50.0   \n",
            "4               NaN           NaN  BAJO VOLTAJE 2(550-585)    4.0        50.0   \n",
            "..              ...           ...                      ...    ...         ...   \n",
            "695  BOMBAS DE POZO           NaN  BAJO VOLTAJE 2(550-585)    4.0        50.0   \n",
            "696  BOMBAS DE POZO           NaN  BAJO VOLTAJE 2(550-585)    4.0        50.0   \n",
            "697  BOMBAS DE POZO           NaN  BAJO VOLTAJE 2(550-585)    4.0        50.0   \n",
            "698  BOMBAS DE POZO           NaN  BAJO VOLTAJE 2(550-585)    4.0        50.0   \n",
            "699  BOMBAS DE POZO           NaN  BAJO VOLTAJE 2(550-585)    4.0        50.0   \n",
            "\n",
            "    ID_Motor  \n",
            "0       M001  \n",
            "1       M002  \n",
            "2       M003  \n",
            "3       M004  \n",
            "4       M005  \n",
            "..       ...  \n",
            "695     M312  \n",
            "696     M028  \n",
            "697     M008  \n",
            "698     M228  \n",
            "699     M313  \n",
            "\n",
            "[700 rows x 16 columns]\n"
          ]
        }
      ]
    },
    {
      "cell_type": "markdown",
      "source": [
        "Agregar cantidad de motores a data de motores unicos"
      ],
      "metadata": {
        "id": "W2-AAfkB44Oi"
      }
    },
    {
      "cell_type": "code",
      "source": [
        "# Contar la cantidad de motores para cada motor único\n",
        "conteo_motores = motores_objetivos.groupby('ID_Motor')['ID_Motor'].count().reset_index(name='CANTIDAD')\n",
        "\n",
        "# Unir la información del conteo al DataFrame de motores únicos\n",
        "motores_unicos = pd.merge(motores_unicos, conteo_motores, on='ID_Motor', how='left')"
      ],
      "metadata": {
        "id": "gmRDb9AHmlIL"
      },
      "execution_count": null,
      "outputs": []
    },
    {
      "cell_type": "markdown",
      "source": [
        "Motores unicos con columnas reducidas (para descargar columnas realmente importantes)"
      ],
      "metadata": {
        "id": "pzvPVHmD4vwz"
      }
    },
    {
      "cell_type": "code",
      "source": [
        "motores_unicos_reducidos = motores_unicos[['ID_Motor', 'R.P.M', 'POTENCIA (HP)', 'VOLTAJE', 'FRAME', 'MARCA ', 'CANTIDAD' ]]\n",
        "print(motores_unicos_reducidos)"
      ],
      "metadata": {
        "colab": {
          "base_uri": "https://localhost:8080/"
        },
        "id": "rODSA5DhmvzT",
        "outputId": "7da28c16-3af2-4e30-d1d0-49896fc23df7"
      },
      "execution_count": null,
      "outputs": [
        {
          "output_type": "stream",
          "name": "stdout",
          "text": [
            "    ID_Motor   R.P.M  POTENCIA (HP) VOLTAJE   FRAME           MARCA   CANTIDAD\n",
            "0       M001  1480.0            3.0     575   184-T              WEG         1\n",
            "1       M002  1450.0            1.0     575   145-T   ALLIS CHALMERS         1\n",
            "2       M003  1420.0            3.0     575  S/DATO           LENZE          1\n",
            "3       M004  1455.0            3.0     575   132-M           S/DATO         1\n",
            "4       M005  1450.0           10.0     550   254-T   ALLIS CHALMERS         4\n",
            "..       ...     ...            ...     ...     ...              ...       ...\n",
            "308     M309  1475.0           60.0     575   365-T  U.S. ELECTRICAL         4\n",
            "309     M310  1475.0           40.0     575   326-T  U.S. ELECTRICAL         1\n",
            "310     M311  1470.0           13.0     575  S/DATO             ASEA         1\n",
            "311     M312  1470.0           30.0     575  S/DATO             ASEA         1\n",
            "312     M313  1455.0           40.0     575   225-S             TECO         1\n",
            "\n",
            "[313 rows x 7 columns]\n"
          ]
        }
      ]
    },
    {
      "cell_type": "code",
      "source": [
        "motores_unicos_reducidos.to_excel('Motores_Unicos.xlsx', index=False)\n",
        "\n",
        "# Download the Excel file\n",
        "from google.colab import files\n",
        "files.download('Motores_unicos.xlsx')"
      ],
      "metadata": {
        "colab": {
          "base_uri": "https://localhost:8080/",
          "height": 17
        },
        "id": "Plz8fmk2hvJ4",
        "outputId": "eea08096-4a5d-43c8-ef54-8e54aaba5c70"
      },
      "execution_count": null,
      "outputs": [
        {
          "output_type": "display_data",
          "data": {
            "text/plain": [
              "<IPython.core.display.Javascript object>"
            ],
            "application/javascript": [
              "\n",
              "    async function download(id, filename, size) {\n",
              "      if (!google.colab.kernel.accessAllowed) {\n",
              "        return;\n",
              "      }\n",
              "      const div = document.createElement('div');\n",
              "      const label = document.createElement('label');\n",
              "      label.textContent = `Downloading \"${filename}\": `;\n",
              "      div.appendChild(label);\n",
              "      const progress = document.createElement('progress');\n",
              "      progress.max = size;\n",
              "      div.appendChild(progress);\n",
              "      document.body.appendChild(div);\n",
              "\n",
              "      const buffers = [];\n",
              "      let downloaded = 0;\n",
              "\n",
              "      const channel = await google.colab.kernel.comms.open(id);\n",
              "      // Send a message to notify the kernel that we're ready.\n",
              "      channel.send({})\n",
              "\n",
              "      for await (const message of channel.messages) {\n",
              "        // Send a message to notify the kernel that we're ready.\n",
              "        channel.send({})\n",
              "        if (message.buffers) {\n",
              "          for (const buffer of message.buffers) {\n",
              "            buffers.push(buffer);\n",
              "            downloaded += buffer.byteLength;\n",
              "            progress.value = downloaded;\n",
              "          }\n",
              "        }\n",
              "      }\n",
              "      const blob = new Blob(buffers, {type: 'application/binary'});\n",
              "      const a = document.createElement('a');\n",
              "      a.href = window.URL.createObjectURL(blob);\n",
              "      a.download = filename;\n",
              "      div.appendChild(a);\n",
              "      a.click();\n",
              "      div.remove();\n",
              "    }\n",
              "  "
            ]
          },
          "metadata": {}
        },
        {
          "output_type": "display_data",
          "data": {
            "text/plain": [
              "<IPython.core.display.Javascript object>"
            ],
            "application/javascript": [
              "download(\"download_611fcf92-61e3-4366-be59-d85f7fa1d4e8\", \"Motores_Unicos.xlsx\", 15689)"
            ]
          },
          "metadata": {}
        }
      ]
    }
  ]
}